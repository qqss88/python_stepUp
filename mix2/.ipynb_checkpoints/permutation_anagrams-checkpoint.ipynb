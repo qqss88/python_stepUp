{
 "cells": [
  {
   "cell_type": "markdown",
   "metadata": {},
   "source": [
    "# I am trying to use itertools.permutations() to \n",
    "# return all the permutations of the string and return only the ones which are members of a set of words.\n",
    "\n",
    "web link: \n",
    "https://stackoverflow.com/questions/44857962/filter-a-set-for-matching-string-permutations\n",
    "\n",
    "import itertools\n",
    "\n",
    "def permutations_in_dict(string, words): \n",
    "    '''\n",
    "    Parameters\n",
    "    ----------\n",
    "    string : {str}\n",
    "    words : {set}\n",
    "\n",
    "    Returns\n",
    "    -------\n",
    "    list : {list} of {str}    \n",
    "\n",
    "    Example\n",
    "    -------\n",
    "    >>> permutations_in_dict('act', {'cat', 'rat', 'dog', 'act'})\n",
    "    ['act', 'cat']\n",
    "    '''"
   ]
  },
  {
   "cell_type": "code",
   "execution_count": null,
   "metadata": {
    "collapsed": false
   },
   "outputs": [],
   "source": [
    "# solution using sort\n",
    "def permutations_in_dict(string, words):\n",
    "    target = sorted(string)\n",
    "    return sorted(word for word in words if sorted(word) == target)\n",
    "\n",
    "permutations_in_dict('act', {'cat', 'rat', 'dog', 'act'})\n"
   ]
  },
  {
   "cell_type": "code",
   "execution_count": null,
   "metadata": {
    "collapsed": false
   },
   "outputs": [],
   "source": [
    "# Solution using Counter\n",
    "from collections import Counter\n",
    "\n",
    "def permutations_in_dict(string, words):\n",
    "    target = Counter(string)\n",
    "    return sorted(word for word in words if Counter(word) == target)\n",
    "\n",
    "permutations_in_dict('act', {'cat', 'rat', 'dog', 'act'})"
   ]
  },
  {
   "cell_type": "code",
   "execution_count": null,
   "metadata": {
    "collapsed": false
   },
   "outputs": [],
   "source": [
    "#using permutations\n",
    "\n",
    "from itertools import permutations\n",
    "\n",
    "def permutations_in_dict(string, words):\n",
    "    perms = set(map(''.join, permutations(string)))\n",
    "    return sorted(word for word in words if word in perms)\n",
    "\n",
    "permutations_in_dict('act', {'cat', 'rat', 'dog', 'act'})"
   ]
  },
  {
   "cell_type": "code",
   "execution_count": null,
   "metadata": {
    "collapsed": false
   },
   "outputs": [],
   "source": [
    "map(''.join, permutations('act'))"
   ]
  },
  {
   "cell_type": "code",
   "execution_count": null,
   "metadata": {
    "collapsed": false
   },
   "outputs": [],
   "source": [
    "#permutation and set intersection\n",
    "\n",
    "def permutations_in_dict(string, words):\n",
    "    perms = set(map(''.join, permutations(string)))\n",
    "    return sorted(words & perms)\n",
    "\n",
    "permutations_in_dict('act', {'cat', 'rat', 'dog', 'act'})"
   ]
  },
  {
   "cell_type": "code",
   "execution_count": 2,
   "metadata": {
    "collapsed": false
   },
   "outputs": [
    {
     "name": "stdout",
     "output_type": "stream",
     "text": [
      "Timings with string_size=5 and words_size=1000000\n",
      "0.02011    match_sort\n",
      "0.13055    match_multiset\n",
      "0.03809    match_perfect_hash\n",
      "0.00250    match_permutations\n",
      "0.00007    match_permutations_set\n"
     ]
    }
   ],
   "source": [
    "from collections import Counter\n",
    "from itertools import permutations\n",
    "from string import letters\n",
    "from random import choice\n",
    "from operator import mul\n",
    "from time import time\n",
    "\n",
    "def match_sort(string, words):\n",
    "    target = sorted(string)\n",
    "    return sorted(word for word in words if sorted(word) == target)\n",
    "\n",
    "def match_multiset(string, words):\n",
    "    target = Counter(string)\n",
    "    return sorted(word for word in words if Counter(word) == target)\n",
    "\n",
    "primes = [2, 3, 5, 7, 11]\n",
    "primes += [p for p in range(13, 1620) if all(pow(b, p-1, p) == 1 for b in (5, 11))]\n",
    "anagram_hash = lambda s: reduce(mul, (primes[ord(c)] for c in s))\n",
    "\n",
    "def match_perfect_hash(string, words):\n",
    "    target = anagram_hash(string)\n",
    "    return sorted(word for word in words if anagram_hash(word) == target)\n",
    "\n",
    "def match_permutations(string, words):\n",
    "    perms = set(map(''.join, permutations(string)))\n",
    "    return sorted(word for word in words if word in perms)\n",
    "\n",
    "def match_permutations_set(string, words):\n",
    "    perms = set(map(''.join, permutations(string)))\n",
    "    return sorted(words & perms)\n",
    "\n",
    "string_size = 5\n",
    "words_size = 1000000\n",
    "\n",
    "population = letters[: string_size+2]\n",
    "words = set()\n",
    "for i in range(words_size):\n",
    "    word = ''.join([choice(population) for i in range(string_size)])\n",
    "    words.add(word)\n",
    "string = word                # Arbitrarily search use the last word as the target\n",
    "\n",
    "print 'Timings with string_size=%d and words_size=%d' % (string_size, words_size)\n",
    "for func in (match_sort, match_multiset, match_perfect_hash, match_permutations, match_permutations_set):\n",
    "    start = time()\n",
    "    func(string, words)\n",
    "    end = time()\n",
    "    print '%-10.5f %s' % (end - start, func.__name__)\n"
   ]
  },
  {
   "cell_type": "code",
   "execution_count": 3,
   "metadata": {
    "collapsed": false
   },
   "outputs": [
    {
     "name": "stdout",
     "output_type": "stream",
     "text": [
      "Timings with string_size=10 and words_size=1000000\n",
      "1.51227    match_sort\n",
      "7.78472    match_multiset\n",
      "2.66550    match_perfect_hash\n",
      "1.34304    match_permutations\n",
      "1.13401    match_permutations_set\n"
     ]
    }
   ],
   "source": [
    "string_size = 10\n",
    "words_size = 1000000\n",
    "\n",
    "population = letters[: string_size+2]\n",
    "words = set()\n",
    "for i in range(words_size):\n",
    "    word = ''.join([choice(population) for i in range(string_size)])\n",
    "    words.add(word)\n",
    "string = word                # Arbitrarily search use the last word as the target\n",
    "\n",
    "print 'Timings with string_size=%d and words_size=%d' % (string_size, words_size)\n",
    "for func in (match_sort, match_multiset, match_perfect_hash, match_permutations, match_permutations_set):\n",
    "    start = time()\n",
    "    func(string, words)\n",
    "    end = time()\n",
    "    print '%-10.5f %s' % (end - start, func.__name__)"
   ]
  },
  {
   "cell_type": "code",
   "execution_count": null,
   "metadata": {
    "collapsed": true
   },
   "outputs": [],
   "source": []
  }
 ],
 "metadata": {
  "kernelspec": {
   "display_name": "Python 2",
   "language": "python",
   "name": "python2"
  },
  "language_info": {
   "codemirror_mode": {
    "name": "ipython",
    "version": 2
   },
   "file_extension": ".py",
   "mimetype": "text/x-python",
   "name": "python",
   "nbconvert_exporter": "python",
   "pygments_lexer": "ipython2",
   "version": "2.7.13"
  }
 },
 "nbformat": 4,
 "nbformat_minor": 2
}
