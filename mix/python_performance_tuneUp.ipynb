{
 "cells": [
  {
   "cell_type": "code",
   "execution_count": 1,
   "metadata": {
    "collapsed": true
   },
   "outputs": [],
   "source": [
    "import operator\n"
   ]
  },
  {
   "cell_type": "code",
   "execution_count": 2,
   "metadata": {
    "collapsed": true
   },
   "outputs": [],
   "source": [
    "somelist=[(1,5,8),(6,2,4),(9,7,5)]"
   ]
  },
  {
   "cell_type": "code",
   "execution_count": 4,
   "metadata": {},
   "outputs": [
    {
     "data": {
      "text/plain": [
       "[(1, 5, 8), (6, 2, 4), (9, 7, 5)]"
      ]
     },
     "execution_count": 4,
     "metadata": {},
     "output_type": "execute_result"
    }
   ],
   "source": [
    "somelist.sort(key=operator.itemgetter(0))\n",
    "somelist"
   ]
  },
  {
   "cell_type": "code",
   "execution_count": 5,
   "metadata": {},
   "outputs": [
    {
     "data": {
      "text/plain": [
       "[(6, 2, 4), (1, 5, 8), (9, 7, 5)]"
      ]
     },
     "execution_count": 5,
     "metadata": {},
     "output_type": "execute_result"
    }
   ],
   "source": [
    "somelist.sort(key=operator.itemgetter(1))\n",
    "somelist"
   ]
  },
  {
   "cell_type": "code",
   "execution_count": 7,
   "metadata": {},
   "outputs": [
    {
     "data": {
      "text/plain": [
       "[(6, 2, 4), (9, 7, 5), (1, 5, 8)]"
      ]
     },
     "execution_count": 7,
     "metadata": {},
     "output_type": "execute_result"
    }
   ],
   "source": [
    "somelist.sort(key=operator.itemgetter(2))\n",
    "somelist"
   ]
  },
  {
   "cell_type": "markdown",
   "metadata": {},
   "source": [
    "# try avoid visting variables inside looping"
   ]
  },
  {
   "cell_type": "code",
   "execution_count": 10,
   "metadata": {},
   "outputs": [
    {
     "name": "stdout",
     "output_type": "stream",
     "text": [
      "CPU times: user 3 µs, sys: 1e+03 ns, total: 4 µs\n",
      "Wall time: 8.11 µs\n",
      "['THIS', 'IS', 'LOWERCASE']\n"
     ]
    }
   ],
   "source": [
    "%time\n",
    "lowerlist = ['this','is','lowercase']\n",
    "upper = str.upper\n",
    "upperlist = []\n",
    "append = upperlist.append\n",
    "\n",
    "for word in lowerlist:\n",
    "    append(upper(word))\n",
    "print upperlist\n"
   ]
  },
  {
   "cell_type": "code",
   "execution_count": 11,
   "metadata": {},
   "outputs": [
    {
     "name": "stdout",
     "output_type": "stream",
     "text": [
      "CPU times: user 2 µs, sys: 0 ns, total: 2 µs\n",
      "Wall time: 5.01 µs\n",
      "['THIS', 'IS', 'LOWERCASE']\n"
     ]
    }
   ],
   "source": [
    "%time\n",
    "lowerlist = ['this','is','lowercase']\n",
    "#upper = str.upper\n",
    "upperlist = []\n",
    "#append = upperlist.append\n",
    "\n",
    "for word in lowerlist:\n",
    "    upperlist.append(str.upper(word))\n",
    "print upperlist"
   ]
  },
  {
   "cell_type": "code",
   "execution_count": 21,
   "metadata": {},
   "outputs": [
    {
     "name": "stdout",
     "output_type": "stream",
     "text": [
      "CPU times: user 3 µs, sys: 1 µs, total: 4 µs\n",
      "Wall time: 6.91 µs\n",
      "{'a': 4000000, 'c': 4000000, 'b': 4000000, 'd': 4000000}\n"
     ]
    }
   ],
   "source": [
    "#this one is running faster if looping big and dictionary is not empty\n",
    "%time\n",
    "n=16000000\n",
    "myDict = {}\n",
    "for i in range(0,n):\n",
    "    char = 'abcd'[i%4]\n",
    "    try:\n",
    "        myDict[char] += 1\n",
    "    except KeyError:\n",
    "        myDict[char] =1\n",
    "print myDict"
   ]
  },
  {
   "cell_type": "code",
   "execution_count": 22,
   "metadata": {},
   "outputs": [
    {
     "name": "stdout",
     "output_type": "stream",
     "text": [
      "CPU times: user 3 µs, sys: 1 µs, total: 4 µs\n",
      "Wall time: 8.11 µs\n",
      "{'a': 4000000, 'c': 4000000, 'b': 4000000, 'd': 4000000}\n"
     ]
    }
   ],
   "source": [
    "%time\n",
    "n=16000000\n",
    "myDict = {}\n",
    "for i in range(0,n):\n",
    "    char = 'abcd'[i%4]\n",
    "    if char not in myDict:\n",
    "        myDict[char] = 1\n",
    "    else:\n",
    "        myDict[char] += 1\n",
    "print myDict"
   ]
  },
  {
   "cell_type": "code",
   "execution_count": null,
   "metadata": {
    "collapsed": true
   },
   "outputs": [],
   "source": []
  }
 ],
 "metadata": {
  "anaconda-cloud": {},
  "kernelspec": {
   "display_name": "Python 2",
   "language": "python",
   "name": "python2"
  },
  "language_info": {
   "codemirror_mode": {
    "name": "ipython",
    "version": 2
   },
   "file_extension": ".py",
   "mimetype": "text/x-python",
   "name": "python",
   "nbconvert_exporter": "python",
   "pygments_lexer": "ipython2",
   "version": "2.7.13"
  }
 },
 "nbformat": 4,
 "nbformat_minor": 1
}
