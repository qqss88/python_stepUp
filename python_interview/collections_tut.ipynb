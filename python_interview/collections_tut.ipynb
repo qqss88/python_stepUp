{
 "cells": [
  {
   "cell_type": "markdown",
   "metadata": {},
   "source": [
    "# Counter : a sub-class of dict"
   ]
  },
  {
   "cell_type": "code",
   "execution_count": 2,
   "metadata": {
    "collapsed": false
   },
   "outputs": [
    {
     "data": {
      "text/plain": [
       "Counter({'blue': 3, 'green': 1, 'red': 2})"
      ]
     },
     "execution_count": 2,
     "metadata": {},
     "output_type": "execute_result"
    }
   ],
   "source": [
    "#counter is sub-class of dict\n",
    "from collections import Counter\n",
    "# Tally occurrences of words in a list\n",
    "my_cnt = Counter()\n",
    "for word in ['red', 'blue', 'red', 'green', 'blue', 'blue']:\n",
    "    my_cnt[word] += 1\n",
    "my_cnt"
   ]
  },
  {
   "cell_type": "code",
   "execution_count": 3,
   "metadata": {
    "collapsed": false
   },
   "outputs": [
    {
     "data": {
      "text/plain": [
       "Counter({1: 3, 3: 2, 5: 1, 'blue': 3, 'green': 1, 'red': 2})"
      ]
     },
     "execution_count": 3,
     "metadata": {},
     "output_type": "execute_result"
    }
   ],
   "source": [
    "for num in [1,1,1,3,3,5]:\n",
    "    my_cnt[num] += 1\n",
    "my_cnt"
   ]
  },
  {
   "cell_type": "code",
   "execution_count": 6,
   "metadata": {
    "collapsed": false
   },
   "outputs": [
    {
     "data": {
      "text/plain": [
       "[('info', 1), ('10', 1), ('12', 1)]"
      ]
     },
     "execution_count": 6,
     "metadata": {},
     "output_type": "execute_result"
    }
   ],
   "source": [
    "import re\n",
    "words = re.findall(r'\\w+', open('hello.log').read().lower())\n",
    "Counter(words).most_common(3)"
   ]
  },
  {
   "cell_type": "code",
   "execution_count": 7,
   "metadata": {
    "collapsed": true
   },
   "outputs": [],
   "source": [
    "my_cnt.clear()"
   ]
  },
  {
   "cell_type": "code",
   "execution_count": 8,
   "metadata": {
    "collapsed": false
   },
   "outputs": [
    {
     "data": {
      "text/plain": [
       "[('info', 1),\n",
       " ('10', 1),\n",
       " ('12', 1),\n",
       " ('337', 1),\n",
       " ('42', 1),\n",
       " ('40', 1),\n",
       " ('01', 1),\n",
       " ('__main__', 1),\n",
       " ('baby', 1),\n",
       " ('2017', 1),\n",
       " ('hello', 1)]"
      ]
     },
     "execution_count": 8,
     "metadata": {},
     "output_type": "execute_result"
    }
   ],
   "source": [
    "my_cnt = Counter(words)\n",
    "my_cnt.most_common()"
   ]
  },
  {
   "cell_type": "code",
   "execution_count": 9,
   "metadata": {
    "collapsed": false
   },
   "outputs": [
    {
     "data": {
      "text/plain": [
       "11"
      ]
     },
     "execution_count": 9,
     "metadata": {},
     "output_type": "execute_result"
    }
   ],
   "source": [
    "c=my_cnt\n",
    "sum(c.values()) "
   ]
  },
  {
   "cell_type": "code",
   "execution_count": 10,
   "metadata": {
    "collapsed": false
   },
   "outputs": [
    {
     "data": {
      "text/plain": [
       "['info',\n",
       " '10',\n",
       " '12',\n",
       " '337',\n",
       " '42',\n",
       " '40',\n",
       " '01',\n",
       " '__main__',\n",
       " 'baby',\n",
       " '2017',\n",
       " 'hello']"
      ]
     },
     "execution_count": 10,
     "metadata": {},
     "output_type": "execute_result"
    }
   ],
   "source": [
    "list(c)"
   ]
  },
  {
   "cell_type": "code",
   "execution_count": 11,
   "metadata": {
    "collapsed": false
   },
   "outputs": [
    {
     "data": {
      "text/plain": [
       "{'01',\n",
       " '10',\n",
       " '12',\n",
       " '2017',\n",
       " '337',\n",
       " '40',\n",
       " '42',\n",
       " '__main__',\n",
       " 'baby',\n",
       " 'hello',\n",
       " 'info'}"
      ]
     },
     "execution_count": 11,
     "metadata": {},
     "output_type": "execute_result"
    }
   ],
   "source": [
    "set(c)"
   ]
  },
  {
   "cell_type": "code",
   "execution_count": 12,
   "metadata": {
    "collapsed": false
   },
   "outputs": [
    {
     "data": {
      "text/plain": [
       "{'01': 1,\n",
       " '10': 1,\n",
       " '12': 1,\n",
       " '2017': 1,\n",
       " '337': 1,\n",
       " '40': 1,\n",
       " '42': 1,\n",
       " '__main__': 1,\n",
       " 'baby': 1,\n",
       " 'hello': 1,\n",
       " 'info': 1}"
      ]
     },
     "execution_count": 12,
     "metadata": {},
     "output_type": "execute_result"
    }
   ],
   "source": [
    "dict(c)"
   ]
  },
  {
   "cell_type": "code",
   "execution_count": 13,
   "metadata": {
    "collapsed": false
   },
   "outputs": [
    {
     "data": {
      "text/plain": [
       "[('info', 1),\n",
       " ('10', 1),\n",
       " ('12', 1),\n",
       " ('337', 1),\n",
       " ('42', 1),\n",
       " ('40', 1),\n",
       " ('01', 1),\n",
       " ('__main__', 1),\n",
       " ('baby', 1),\n",
       " ('2017', 1),\n",
       " ('hello', 1)]"
      ]
     },
     "execution_count": 13,
     "metadata": {},
     "output_type": "execute_result"
    }
   ],
   "source": [
    "c.items()"
   ]
  },
  {
   "cell_type": "code",
   "execution_count": 15,
   "metadata": {
    "collapsed": false
   },
   "outputs": [
    {
     "data": {
      "text/plain": [
       "Counter({'01': 1,\n",
       "         '10': 1,\n",
       "         '12': 1,\n",
       "         '2017': 1,\n",
       "         '337': 1,\n",
       "         '40': 1,\n",
       "         '42': 1,\n",
       "         '__main__': 1,\n",
       "         'baby': 1,\n",
       "         'hello': 1,\n",
       "         'info': 1})"
      ]
     },
     "execution_count": 15,
     "metadata": {},
     "output_type": "execute_result"
    }
   ],
   "source": [
    "c += Counter()\n",
    "c"
   ]
  },
  {
   "cell_type": "code",
   "execution_count": 16,
   "metadata": {
    "collapsed": false
   },
   "outputs": [
    {
     "data": {
      "text/plain": [
       "Counter()"
      ]
     },
     "execution_count": 16,
     "metadata": {},
     "output_type": "execute_result"
    }
   ],
   "source": [
    "c.clear()\n",
    "c"
   ]
  },
  {
   "cell_type": "code",
   "execution_count": null,
   "metadata": {
    "collapsed": true
   },
   "outputs": [],
   "source": []
  }
 ],
 "metadata": {
  "kernelspec": {
   "display_name": "Python 2",
   "language": "python",
   "name": "python2"
  },
  "language_info": {
   "codemirror_mode": {
    "name": "ipython",
    "version": 2
   },
   "file_extension": ".py",
   "mimetype": "text/x-python",
   "name": "python",
   "nbconvert_exporter": "python",
   "pygments_lexer": "ipython2",
   "version": "2.7.13"
  }
 },
 "nbformat": 4,
 "nbformat_minor": 2
}
