{
 "cells": [
  {
   "cell_type": "code",
   "execution_count": 1,
   "metadata": {
    "collapsed": true
   },
   "outputs": [],
   "source": [
    "seed = 'abcde'*1000000\n",
    "str1 = seed+'f'+seed[::-1] #True\n",
    "str2 = seed+'f'+'z'+seed[::-1][1:] #False"
   ]
  },
  {
   "cell_type": "code",
   "execution_count": 2,
   "metadata": {
    "collapsed": false
   },
   "outputs": [],
   "source": [
    "#func1: special slicing\n",
    "def f1(_s): \n",
    "    return _s == _s[::-1]\n",
    "\n",
    "assert(f1(str1))\n",
    "assert(f1(str2)==False)"
   ]
  },
  {
   "cell_type": "code",
   "execution_count": 3,
   "metadata": {
    "collapsed": false
   },
   "outputs": [],
   "source": [
    "#func2: using reversed and join\n",
    "def f2(_s): \n",
    "    return _s == ''.join(reversed(_s))\n",
    "\n",
    "assert(f2(str1))\n",
    "assert(f2(str2)==False)\n"
   ]
  },
  {
   "cell_type": "code",
   "execution_count": 4,
   "metadata": {
    "collapsed": false
   },
   "outputs": [],
   "source": [
    "# half way walking and comparison\n",
    "def f3(_s):\n",
    "    for i in range(len(_s) // 2):        \n",
    "        if _s[i] != _s[-i-1]:\n",
    "            return False\n",
    "    return True\n",
    "\n",
    "assert(f2(str1))\n",
    "assert(f2(str2)==False)       "
   ]
  },
  {
   "cell_type": "code",
   "execution_count": 5,
   "metadata": {
    "collapsed": false
   },
   "outputs": [
    {
     "name": "stdout",
     "output_type": "stream",
     "text": [
      "100 loops, best of 3: 19.1 ms per loop\n"
     ]
    }
   ],
   "source": [
    "%timeit f1(str1)"
   ]
  },
  {
   "cell_type": "code",
   "execution_count": 6,
   "metadata": {
    "collapsed": false
   },
   "outputs": [
    {
     "name": "stdout",
     "output_type": "stream",
     "text": [
      "1 loop, best of 3: 219 ms per loop\n"
     ]
    }
   ],
   "source": [
    "%timeit f2(str1)"
   ]
  },
  {
   "cell_type": "code",
   "execution_count": 7,
   "metadata": {
    "collapsed": false
   },
   "outputs": [
    {
     "name": "stdout",
     "output_type": "stream",
     "text": [
      "1 loop, best of 3: 703 ms per loop\n"
     ]
    }
   ],
   "source": [
    "%timeit f3(str1)"
   ]
  },
  {
   "cell_type": "code",
   "execution_count": 8,
   "metadata": {
    "collapsed": false
   },
   "outputs": [
    {
     "name": "stdout",
     "output_type": "stream",
     "text": [
      "10 loops, best of 3: 17.7 ms per loop\n"
     ]
    }
   ],
   "source": [
    "%timeit f1(str2)"
   ]
  },
  {
   "cell_type": "code",
   "execution_count": 9,
   "metadata": {
    "collapsed": false
   },
   "outputs": [
    {
     "name": "stdout",
     "output_type": "stream",
     "text": [
      "1 loop, best of 3: 240 ms per loop\n"
     ]
    }
   ],
   "source": [
    "%timeit f2(str2)"
   ]
  },
  {
   "cell_type": "code",
   "execution_count": 10,
   "metadata": {
    "collapsed": false
   },
   "outputs": [
    {
     "name": "stdout",
     "output_type": "stream",
     "text": [
      "1 loop, best of 3: 729 ms per loop\n"
     ]
    }
   ],
   "source": [
    "%timeit f3(str2)"
   ]
  },
  {
   "cell_type": "code",
   "execution_count": 11,
   "metadata": {
    "collapsed": true
   },
   "outputs": [],
   "source": [
    "def f3_print(_s):\n",
    "    for i in range(len(_s) // 2): #usiing floor devision to ensure python2 and python3 transition       \n",
    "        print('stepping {}: {} vs {}'.format(i,_s[i],_s[-i-1]))\n",
    "        if _s[i] != _s[-i-1]:\n",
    "            print('first non-equal case found({} vs {}), return False.'.format(_s[i],_s[-i-1]))\n",
    "            return False\n",
    "    print 'comparison done, no difference found. Return True'\n",
    "    return True"
   ]
  },
  {
   "cell_type": "code",
   "execution_count": 12,
   "metadata": {
    "collapsed": false
   },
   "outputs": [
    {
     "name": "stdout",
     "output_type": "stream",
     "text": [
      "stepping 0: a vs a\n",
      "stepping 1: b vs b\n",
      "stepping 2: c vs c\n",
      "stepping 3: d vs d\n",
      "comparison done, no difference found. Return True\n"
     ]
    },
    {
     "data": {
      "text/plain": [
       "True"
      ]
     },
     "execution_count": 12,
     "metadata": {},
     "output_type": "execute_result"
    }
   ],
   "source": [
    "f3_print('abcdedcba')"
   ]
  },
  {
   "cell_type": "code",
   "execution_count": 13,
   "metadata": {
    "collapsed": false
   },
   "outputs": [
    {
     "name": "stdout",
     "output_type": "stream",
     "text": [
      "stepping 0: a vs a\n",
      "stepping 1: b vs b\n",
      "stepping 2: c vs c\n",
      "stepping 3: d vs f\n",
      "first non-equal case found(d vs f), return False.\n"
     ]
    },
    {
     "data": {
      "text/plain": [
       "False"
      ]
     },
     "execution_count": 13,
     "metadata": {},
     "output_type": "execute_result"
    }
   ],
   "source": [
    "f3_print('abcdefcba')"
   ]
  }
 ],
 "metadata": {
  "kernelspec": {
   "display_name": "Python 2",
   "language": "python",
   "name": "python2"
  },
  "language_info": {
   "codemirror_mode": {
    "name": "ipython",
    "version": 2
   },
   "file_extension": ".py",
   "mimetype": "text/x-python",
   "name": "python",
   "nbconvert_exporter": "python",
   "pygments_lexer": "ipython2",
   "version": "2.7.13"
  }
 },
 "nbformat": 4,
 "nbformat_minor": 2
}
