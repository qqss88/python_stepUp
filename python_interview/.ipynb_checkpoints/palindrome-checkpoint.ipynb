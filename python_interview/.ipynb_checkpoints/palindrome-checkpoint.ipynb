{
 "cells": [
  {
   "cell_type": "code",
   "execution_count": 63,
   "metadata": {
    "collapsed": true
   },
   "outputs": [],
   "source": [
    "seed = 'abcde'*1000000\n",
    "str1 = seed+'f'+seed[::-1] #True\n",
    "str2 = seed+'f'+'z'+seed[::-1][1:] #False"
   ]
  },
  {
   "cell_type": "code",
   "execution_count": 64,
   "metadata": {
    "collapsed": false
   },
   "outputs": [],
   "source": [
    "#func1: special slicing\n",
    "def f1(_s): \n",
    "    return _s == _s[::-1]\n",
    "\n",
    "assert(f1(str1))\n",
    "assert(f1(str2)==False)"
   ]
  },
  {
   "cell_type": "code",
   "execution_count": 65,
   "metadata": {
    "collapsed": false
   },
   "outputs": [],
   "source": [
    "#func2: using reversed and join\n",
    "def f2(_s): \n",
    "    return _s == ''.join(reversed(_s))\n",
    "\n",
    "assert(f2(str1))\n",
    "assert(f2(str2)==False)\n"
   ]
  },
  {
   "cell_type": "code",
   "execution_count": 66,
   "metadata": {
    "collapsed": false
   },
   "outputs": [],
   "source": [
    "# half way walking and comparison\n",
    "def f3(_s):\n",
    "    for i in range(len(_s) // 2):        \n",
    "        if _s[i] != _s[-i-1]:\n",
    "            return False\n",
    "    return True\n",
    "\n",
    "assert(f2(str1))\n",
    "assert(f2(str2)==False)       "
   ]
  },
  {
   "cell_type": "code",
   "execution_count": 54,
   "metadata": {
    "collapsed": false
   },
   "outputs": [
    {
     "name": "stdout",
     "output_type": "stream",
     "text": [
      "10 loops, best of 3: 21.5 ms per loop\n"
     ]
    }
   ],
   "source": [
    "%timeit f1(str1)"
   ]
  },
  {
   "cell_type": "code",
   "execution_count": 55,
   "metadata": {
    "collapsed": false
   },
   "outputs": [
    {
     "name": "stdout",
     "output_type": "stream",
     "text": [
      "1 loop, best of 3: 304 ms per loop\n"
     ]
    }
   ],
   "source": [
    "%timeit f2(str1)"
   ]
  },
  {
   "cell_type": "code",
   "execution_count": 56,
   "metadata": {
    "collapsed": false
   },
   "outputs": [
    {
     "name": "stdout",
     "output_type": "stream",
     "text": [
      "1 loop, best of 3: 1.15 s per loop\n"
     ]
    }
   ],
   "source": [
    "%timeit f3(str1)"
   ]
  },
  {
   "cell_type": "code",
   "execution_count": 57,
   "metadata": {
    "collapsed": false
   },
   "outputs": [
    {
     "name": "stdout",
     "output_type": "stream",
     "text": [
      "10 loops, best of 3: 21.4 ms per loop\n"
     ]
    }
   ],
   "source": [
    "%timeit f1(str2)"
   ]
  },
  {
   "cell_type": "code",
   "execution_count": 58,
   "metadata": {
    "collapsed": false
   },
   "outputs": [
    {
     "name": "stdout",
     "output_type": "stream",
     "text": [
      "1 loop, best of 3: 300 ms per loop\n"
     ]
    }
   ],
   "source": [
    "%timeit f2(str2)"
   ]
  },
  {
   "cell_type": "code",
   "execution_count": 59,
   "metadata": {
    "collapsed": false
   },
   "outputs": [
    {
     "name": "stdout",
     "output_type": "stream",
     "text": [
      "1 loop, best of 3: 1.23 s per loop\n"
     ]
    }
   ],
   "source": [
    "%timeit f3(str2)"
   ]
  },
  {
   "cell_type": "code",
   "execution_count": 60,
   "metadata": {
    "collapsed": true
   },
   "outputs": [],
   "source": [
    "def f3_print(_s):\n",
    "    for i in range(len(_s) // 2): #usiing floor devision to ensure python2 and python3 transition       \n",
    "        print('stepping {}: {} vs {}'.format(i,_s[i],_s[-i-1]))\n",
    "        if _s[i] != _s[-i-1]:\n",
    "            print('first non-equal case found({} vs {}), return False.'.format(_s[i],_s[-i-1]))\n",
    "            return False\n",
    "    print 'comparison done, no difference found. Return True'\n",
    "    return True"
   ]
  },
  {
   "cell_type": "code",
   "execution_count": 61,
   "metadata": {
    "collapsed": false
   },
   "outputs": [
    {
     "name": "stdout",
     "output_type": "stream",
     "text": [
      "stepping 0: a vs a\n",
      "stepping 1: b vs b\n",
      "stepping 2: c vs c\n",
      "stepping 3: d vs d\n",
      "comparison done, no difference found. Return True\n"
     ]
    },
    {
     "data": {
      "text/plain": [
       "True"
      ]
     },
     "execution_count": 61,
     "metadata": {},
     "output_type": "execute_result"
    }
   ],
   "source": [
    "f3_print('abcdedcba')"
   ]
  },
  {
   "cell_type": "code",
   "execution_count": 62,
   "metadata": {
    "collapsed": false
   },
   "outputs": [
    {
     "name": "stdout",
     "output_type": "stream",
     "text": [
      "stepping 0: a vs a\n",
      "stepping 1: b vs b\n",
      "stepping 2: c vs c\n",
      "stepping 3: d vs f\n",
      "first non-equal case found(d vs f), return False.\n"
     ]
    },
    {
     "data": {
      "text/plain": [
       "False"
      ]
     },
     "execution_count": 62,
     "metadata": {},
     "output_type": "execute_result"
    }
   ],
   "source": [
    "f3_print('abcdefcba')"
   ]
  }
 ],
 "metadata": {
  "kernelspec": {
   "display_name": "Python 2",
   "language": "python",
   "name": "python2"
  },
  "language_info": {
   "codemirror_mode": {
    "name": "ipython",
    "version": 2
   },
   "file_extension": ".py",
   "mimetype": "text/x-python",
   "name": "python",
   "nbconvert_exporter": "python",
   "pygments_lexer": "ipython2",
   "version": "2.7.13"
  }
 },
 "nbformat": 4,
 "nbformat_minor": 2
}
