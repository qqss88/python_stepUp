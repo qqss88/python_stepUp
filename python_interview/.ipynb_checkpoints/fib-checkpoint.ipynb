{
 "cells": [
  {
   "cell_type": "code",
   "execution_count": 1,
   "metadata": {
    "collapsed": true
   },
   "outputs": [],
   "source": [
    "from __future__ import print_function"
   ]
  },
  {
   "cell_type": "code",
   "execution_count": 2,
   "metadata": {
    "collapsed": true
   },
   "outputs": [],
   "source": [
    "def fib_n(n):\n",
    "    if n ==1 or n==2:\n",
    "        return 1\n",
    "    else:\n",
    "        return fib_n(n-1)+fib_n(n-2)"
   ]
  },
  {
   "cell_type": "code",
   "execution_count": 3,
   "metadata": {
    "collapsed": false
   },
   "outputs": [
    {
     "data": {
      "text/plain": [
       "55"
      ]
     },
     "execution_count": 3,
     "metadata": {},
     "output_type": "execute_result"
    }
   ],
   "source": [
    "fib_n(10)"
   ]
  },
  {
   "cell_type": "code",
   "execution_count": 11,
   "metadata": {
    "collapsed": true
   },
   "outputs": [],
   "source": [
    "# dynamic with list\n",
    "def dynamicFibo(n, memo = []):\n",
    "    while len(memo) < n+1: \n",
    "        memo.append(0) #this does the same thing except it doesn't change the reference to `table`\n",
    "\n",
    "        #base case\n",
    "    if n == 1 or n == 2:\n",
    "        return n\n",
    "    \n",
    "    #recursive case\n",
    "    else:\n",
    "        if memo[n-1] ==  0:\n",
    "            memo[n-1] = dynamicFibo(n-1)\n",
    "\n",
    "        if memo[n-2] ==  0:\n",
    "            memo[n-2] = dynamicFibo(n-2)\n",
    "\n",
    "        memo[n] = memo[n-2] + memo[n-1]\n",
    "    return memo[n]"
   ]
  },
  {
   "cell_type": "code",
   "execution_count": 20,
   "metadata": {
    "collapsed": true
   },
   "outputs": [],
   "source": [
    "# dynamic with dict\n",
    "def dynamicFibo2(n, memo = {}):\n",
    "    if n in memo:\n",
    "        return memo[n]\n",
    "    \n",
    "    if n ==1 or n == 2:\n",
    "        return 1\n",
    "    else:\n",
    "        memo[n] = dynamicFibo2(n-1)+dynamicFibo2(n-2)\n",
    "        return memo[n]\n",
    " "
   ]
  },
  {
   "cell_type": "code",
   "execution_count": 24,
   "metadata": {
    "collapsed": false
   },
   "outputs": [
    {
     "data": {
      "text/plain": [
       "13"
      ]
     },
     "execution_count": 24,
     "metadata": {},
     "output_type": "execute_result"
    }
   ],
   "source": [
    "dynamicFibo2(7)"
   ]
  },
  {
   "cell_type": "code",
   "execution_count": 25,
   "metadata": {
    "collapsed": false
   },
   "outputs": [
    {
     "name": "stdout",
     "output_type": "stream",
     "text": [
      "  0:   0\n",
      "  1:   1\n",
      "  2:   1\n",
      "  3:   2\n",
      "  4:   3\n",
      "  5:   5\n",
      "  6:   8\n",
      "  7:  13\n",
      "  8:  21\n",
      "  9:  34\n",
      " 10:  55\n"
     ]
    }
   ],
   "source": [
    "def fib():\n",
    "    a, b = 0, 1\n",
    "    while True:            # First iteration:\n",
    "        yield a            # yield 0 to start with and then\n",
    "        a, b = b, a + b    # a will now be 1, and b will also be 1, (0 + 1)\n",
    "\n",
    "\n",
    "for index, fibonacci_number in enumerate(fib()):\n",
    "    print('{i:3}: {f:3}'.format(i=index, f=fibonacci_number))\n",
    "    if index == 10:\n",
    "        break"
   ]
  }
 ],
 "metadata": {
  "kernelspec": {
   "display_name": "Python 2",
   "language": "python",
   "name": "python2"
  },
  "language_info": {
   "codemirror_mode": {
    "name": "ipython",
    "version": 2
   },
   "file_extension": ".py",
   "mimetype": "text/x-python",
   "name": "python",
   "nbconvert_exporter": "python",
   "pygments_lexer": "ipython2",
   "version": "2.7.13"
  }
 },
 "nbformat": 4,
 "nbformat_minor": 2
}
