{
 "cells": [
  {
   "cell_type": "code",
   "execution_count": 10,
   "metadata": {
    "collapsed": false
   },
   "outputs": [
    {
     "name": "stdout",
     "output_type": "stream",
     "text": [
      "[('aun', 'qiang'), ('tom', 'picky'), ('wang', 'chao')]\n"
     ]
    }
   ],
   "source": [
    "a = [('aun','qiang'),('wang', 'chao'),('tom','picky')]\n",
    "b = [('aun','qiang'), ('wang', 'chao')]\n",
    "\n",
    "print(sorted(set(a+b), key=lambda x:x[0]))"
   ]
  },
  {
   "cell_type": "code",
   "execution_count": 14,
   "metadata": {
    "collapsed": false
   },
   "outputs": [
    {
     "name": "stdout",
     "output_type": "stream",
     "text": [
      "set([(11, 8), (10, 5), (12, 9), (55, 30), (1, 31)])\n"
     ]
    }
   ],
   "source": [
    "# combine lists and remove duplicates\n",
    "_a = [(10,5),(11, 8),(55,30)]\n",
    "_b = [(10,5), (12, 9), (1,31)]\n",
    "print(set(_a+_b))"
   ]
  },
  {
   "cell_type": "code",
   "execution_count": 15,
   "metadata": {
    "collapsed": false
   },
   "outputs": [
    {
     "name": "stdout",
     "output_type": "stream",
     "text": [
      "[(10, 5), (11, 8), (12, 9), (55, 30), (1, 31)]\n"
     ]
    }
   ],
   "source": [
    "print sorted(set(_a+_b), key=lambda x:x[1])"
   ]
  },
  {
   "cell_type": "code",
   "execution_count": 16,
   "metadata": {
    "collapsed": false
   },
   "outputs": [
    {
     "name": "stdout",
     "output_type": "stream",
     "text": [
      "[(1, 31), (10, 5), (11, 8), (12, 9), (55, 30)]\n"
     ]
    }
   ],
   "source": [
    "print sorted(set(_a+_b), key=lambda x:x[0])"
   ]
  },
  {
   "cell_type": "code",
   "execution_count": 17,
   "metadata": {
    "collapsed": false
   },
   "outputs": [
    {
     "name": "stdout",
     "output_type": "stream",
     "text": [
      "alan: 2\n",
      "bob: 1\n",
      "carl: 40\n",
      "danny: 3\n"
     ]
    }
   ],
   "source": [
    "#sort doct by keys\n",
    "mydict = {'carl':40,\n",
    "          'alan':2,\n",
    "          'bob':1,\n",
    "          'danny':3}\n",
    "\n",
    "for key in sorted(mydict.iterkeys()):\n",
    "    print \"%s: %s\" % (key, mydict[key])"
   ]
  },
  {
   "cell_type": "code",
   "execution_count": 18,
   "metadata": {
    "collapsed": false
   },
   "outputs": [
    {
     "name": "stdout",
     "output_type": "stream",
     "text": [
      "bob: 1\n",
      "alan: 2\n",
      "danny: 3\n",
      "carl: 40\n"
     ]
    }
   ],
   "source": [
    "# sort by value using lambda function\n",
    "for key, value in sorted(mydict.iteritems(), key=lambda (k,v): v):\n",
    "    print \"%s: %s\" % (key, value)"
   ]
  },
  {
   "cell_type": "code",
   "execution_count": 20,
   "metadata": {
    "collapsed": false
   },
   "outputs": [
    {
     "name": "stdout",
     "output_type": "stream",
     "text": [
      "bob: 1\n",
      "alan: 2\n",
      "danny: 3\n",
      "carl: 40\n"
     ]
    }
   ],
   "source": [
    "#sort by value using operator.itemgetter\n",
    "import operator\n",
    "for key, value in sorted(mydict.iteritems(), key=operator.itemgetter(1)):\n",
    "    print \"%s: %s\" % (key, value)"
   ]
  },
  {
   "cell_type": "code",
   "execution_count": 1,
   "metadata": {
    "collapsed": false
   },
   "outputs": [
    {
     "name": "stdout",
     "output_type": "stream",
     "text": [
      "[3, 2, 1, 4, 3, 2, 5, 4, 3]\n"
     ]
    }
   ],
   "source": [
    "#list comprehension\n",
    "# number math operation in list level:\n",
    "l1 = [4,5,6]\n",
    "l2 = [1,2,3]\n",
    "\n",
    "#Q: get a new list: l1 - l2 (each number in l1 minus each number in b, you should get 9 numbers)\n",
    "#A: using list comprehension\n",
    "l3 = [a - b for a in l1 for b in l2]\n",
    "print(l3)"
   ]
  },
  {
   "cell_type": "code",
   "execution_count": null,
   "metadata": {
    "collapsed": true
   },
   "outputs": [],
   "source": []
  },
  {
   "cell_type": "code",
   "execution_count": null,
   "metadata": {
    "collapsed": true
   },
   "outputs": [],
   "source": []
  },
  {
   "cell_type": "code",
   "execution_count": null,
   "metadata": {
    "collapsed": true
   },
   "outputs": [],
   "source": []
  }
 ],
 "metadata": {
  "kernelspec": {
   "display_name": "Python 2",
   "language": "python",
   "name": "python2"
  },
  "language_info": {
   "codemirror_mode": {
    "name": "ipython",
    "version": 2
   },
   "file_extension": ".py",
   "mimetype": "text/x-python",
   "name": "python",
   "nbconvert_exporter": "python",
   "pygments_lexer": "ipython2",
   "version": "2.7.13"
  }
 },
 "nbformat": 4,
 "nbformat_minor": 2
}
