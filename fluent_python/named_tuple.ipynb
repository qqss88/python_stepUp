{
 "cells": [
  {
   "cell_type": "code",
   "execution_count": 2,
   "metadata": {
    "collapsed": true
   },
   "outputs": [],
   "source": [
    "#import collections\n",
    "from collections import namedtuple"
   ]
  },
  {
   "cell_type": "code",
   "execution_count": 7,
   "metadata": {
    "collapsed": true
   },
   "outputs": [],
   "source": [
    "Card = namedtuple('Card', ['rank', 'suit'])\n",
    "\n",
    "class FrenchDeck:\n",
    "    \n",
    "    \n",
    "    ranks = [str(n) for n in range(2, 11)] + list('JQKA')\n",
    "\n",
    "    suites = 'spades diamonds clubs hearts'.split()\n",
    "\n",
    "    def __init__(self):\n",
    "        self._cards = [Card(rank, suit) for suit in self.suits \n",
    "                for rank in self.ranks]\n",
    "\n",
    "    def __len__(self):\n",
    "         return len(self._cards)\n",
    "\n",
    "    def __getitem__(self, position):\n",
    "         return self._cards[position]"
   ]
  },
  {
   "cell_type": "code",
   "execution_count": 8,
   "metadata": {
    "collapsed": false
   },
   "outputs": [
    {
     "data": {
      "text/plain": [
       "Card(rank='7', suit='diamonds')"
      ]
     },
     "execution_count": 8,
     "metadata": {},
     "output_type": "execute_result"
    }
   ],
   "source": [
    "beer_card = Card('7', 'diamonds')\n",
    "beer_card"
   ]
  },
  {
   "cell_type": "code",
   "execution_count": 10,
   "metadata": {
    "collapsed": false
   },
   "outputs": [
    {
     "name": "stdout",
     "output_type": "stream",
     "text": [
      "[1, 2, 3, 4, 5, 6, 7, 8, 9, 10, 11, 12]\n"
     ]
    }
   ],
   "source": [
    "print range(1,13)"
   ]
  },
  {
   "cell_type": "code",
   "execution_count": 23,
   "metadata": {
    "collapsed": false
   },
   "outputs": [
    {
     "name": "stdout",
     "output_type": "stream",
     "text": [
      "Well(row='A', col=7)\n",
      "A\n",
      "7\n"
     ]
    }
   ],
   "source": [
    "Well = namedtuple('Well', ['row', 'col'])\n",
    "well = Well('A',7)\n",
    "print well\n",
    "print well.row\n",
    "print well.col"
   ]
  },
  {
   "cell_type": "code",
   "execution_count": 51,
   "metadata": {
    "collapsed": false
   },
   "outputs": [],
   "source": [
    "class Plate_96:\n",
    "    \n",
    "    \n",
    "    rows = list('ABCDEFGH')\n",
    "\n",
    "    cols = [str(m) for m in range(1,13)]\n",
    "    \n",
    "    #row_dic = dict(zip(range(1,9),rows))\n",
    "    #print row_dic\n",
    "\n",
    "    def __init__(self):\n",
    "        self._wells = [Well(row, col) for row in self.rows \n",
    "                for col in self.cols]\n",
    "\n",
    "    def __len__(self):\n",
    "        return len(self._cards)\n",
    "\n",
    "    def __getitem__(self, position):\n",
    "        return self._wells[position]\n",
    "    \n",
    "    def _print(self):\n",
    "        for well in self._wells:\n",
    "            print well\n",
    "        \n",
    "    def get_well(self, row='A', col=1):\n",
    "        return Well(row, col)\n",
    "    \n",
    "    def get_well_by_position(self, row=1, col=1):\n",
    "        row_dic = dict(zip(range(1,9),rows))\n",
    "        return Well(row_dic[row], col)"
   ]
  },
  {
   "cell_type": "code",
   "execution_count": 52,
   "metadata": {
    "collapsed": false
   },
   "outputs": [
    {
     "name": "stdout",
     "output_type": "stream",
     "text": [
      "Well(row='A', col='1')\n",
      "Well(row='A', col='2')\n",
      "Well(row='A', col='3')\n",
      "Well(row='A', col='4')\n",
      "Well(row='A', col='5')\n",
      "Well(row='A', col='6')\n",
      "Well(row='A', col='7')\n",
      "Well(row='A', col='8')\n",
      "Well(row='A', col='9')\n",
      "Well(row='A', col='10')\n",
      "Well(row='A', col='11')\n",
      "Well(row='A', col='12')\n",
      "Well(row='B', col='1')\n",
      "Well(row='B', col='2')\n",
      "Well(row='B', col='3')\n",
      "Well(row='B', col='4')\n",
      "Well(row='B', col='5')\n",
      "Well(row='B', col='6')\n",
      "Well(row='B', col='7')\n",
      "Well(row='B', col='8')\n",
      "Well(row='B', col='9')\n",
      "Well(row='B', col='10')\n",
      "Well(row='B', col='11')\n",
      "Well(row='B', col='12')\n",
      "Well(row='C', col='1')\n",
      "Well(row='C', col='2')\n",
      "Well(row='C', col='3')\n",
      "Well(row='C', col='4')\n",
      "Well(row='C', col='5')\n",
      "Well(row='C', col='6')\n",
      "Well(row='C', col='7')\n",
      "Well(row='C', col='8')\n",
      "Well(row='C', col='9')\n",
      "Well(row='C', col='10')\n",
      "Well(row='C', col='11')\n",
      "Well(row='C', col='12')\n",
      "Well(row='D', col='1')\n",
      "Well(row='D', col='2')\n",
      "Well(row='D', col='3')\n",
      "Well(row='D', col='4')\n",
      "Well(row='D', col='5')\n",
      "Well(row='D', col='6')\n",
      "Well(row='D', col='7')\n",
      "Well(row='D', col='8')\n",
      "Well(row='D', col='9')\n",
      "Well(row='D', col='10')\n",
      "Well(row='D', col='11')\n",
      "Well(row='D', col='12')\n",
      "Well(row='E', col='1')\n",
      "Well(row='E', col='2')\n",
      "Well(row='E', col='3')\n",
      "Well(row='E', col='4')\n",
      "Well(row='E', col='5')\n",
      "Well(row='E', col='6')\n",
      "Well(row='E', col='7')\n",
      "Well(row='E', col='8')\n",
      "Well(row='E', col='9')\n",
      "Well(row='E', col='10')\n",
      "Well(row='E', col='11')\n",
      "Well(row='E', col='12')\n",
      "Well(row='F', col='1')\n",
      "Well(row='F', col='2')\n",
      "Well(row='F', col='3')\n",
      "Well(row='F', col='4')\n",
      "Well(row='F', col='5')\n",
      "Well(row='F', col='6')\n",
      "Well(row='F', col='7')\n",
      "Well(row='F', col='8')\n",
      "Well(row='F', col='9')\n",
      "Well(row='F', col='10')\n",
      "Well(row='F', col='11')\n",
      "Well(row='F', col='12')\n",
      "Well(row='G', col='1')\n",
      "Well(row='G', col='2')\n",
      "Well(row='G', col='3')\n",
      "Well(row='G', col='4')\n",
      "Well(row='G', col='5')\n",
      "Well(row='G', col='6')\n",
      "Well(row='G', col='7')\n",
      "Well(row='G', col='8')\n",
      "Well(row='G', col='9')\n",
      "Well(row='G', col='10')\n",
      "Well(row='G', col='11')\n",
      "Well(row='G', col='12')\n",
      "Well(row='H', col='1')\n",
      "Well(row='H', col='2')\n",
      "Well(row='H', col='3')\n",
      "Well(row='H', col='4')\n",
      "Well(row='H', col='5')\n",
      "Well(row='H', col='6')\n",
      "Well(row='H', col='7')\n",
      "Well(row='H', col='8')\n",
      "Well(row='H', col='9')\n",
      "Well(row='H', col='10')\n",
      "Well(row='H', col='11')\n",
      "Well(row='H', col='12')\n"
     ]
    }
   ],
   "source": [
    "my_plate = Plate_96()\n",
    "my_plate._print()\n",
    "\n",
    "#a_plate.print_plate()"
   ]
  },
  {
   "cell_type": "code",
   "execution_count": 56,
   "metadata": {
    "collapsed": false
   },
   "outputs": [
    {
     "data": {
      "text/plain": [
       "Well(row='B', col=5)"
      ]
     },
     "execution_count": 56,
     "metadata": {},
     "output_type": "execute_result"
    }
   ],
   "source": [
    "a_plate.get_well('B',5)"
   ]
  },
  {
   "cell_type": "code",
   "execution_count": 57,
   "metadata": {
    "collapsed": false
   },
   "outputs": [
    {
     "ename": "NameError",
     "evalue": "global name 'row_dic' is not defined",
     "output_type": "error",
     "traceback": [
      "\u001b[0;31m---------------------------------------------------------------------------\u001b[0m",
      "\u001b[0;31mNameError\u001b[0m                                 Traceback (most recent call last)",
      "\u001b[0;32m<ipython-input-57-5d32d8c4bc7c>\u001b[0m in \u001b[0;36m<module>\u001b[0;34m()\u001b[0m\n\u001b[0;32m----> 1\u001b[0;31m \u001b[0ma_plate\u001b[0m\u001b[0;34m.\u001b[0m\u001b[0mget_well_by_position\u001b[0m\u001b[0;34m(\u001b[0m\u001b[0;36m5\u001b[0m\u001b[0;34m,\u001b[0m\u001b[0;36m5\u001b[0m\u001b[0;34m)\u001b[0m\u001b[0;34m\u001b[0m\u001b[0m\n\u001b[0m",
      "\u001b[0;32m<ipython-input-36-73d0f1e39e03>\u001b[0m in \u001b[0;36mget_well_by_position\u001b[0;34m(self, row, col)\u001b[0m\n\u001b[1;32m     27\u001b[0m \u001b[0;34m\u001b[0m\u001b[0m\n\u001b[1;32m     28\u001b[0m     \u001b[0;32mdef\u001b[0m \u001b[0mget_well_by_position\u001b[0m\u001b[0;34m(\u001b[0m\u001b[0mself\u001b[0m\u001b[0;34m,\u001b[0m \u001b[0mrow\u001b[0m\u001b[0;34m=\u001b[0m\u001b[0;36m1\u001b[0m\u001b[0;34m,\u001b[0m \u001b[0mcol\u001b[0m\u001b[0;34m=\u001b[0m\u001b[0;36m1\u001b[0m\u001b[0;34m)\u001b[0m\u001b[0;34m:\u001b[0m\u001b[0;34m\u001b[0m\u001b[0m\n\u001b[0;32m---> 29\u001b[0;31m         \u001b[0;32mreturn\u001b[0m \u001b[0mWell\u001b[0m\u001b[0;34m(\u001b[0m\u001b[0mrow_dic\u001b[0m\u001b[0;34m[\u001b[0m\u001b[0mrow\u001b[0m\u001b[0;34m]\u001b[0m\u001b[0;34m,\u001b[0m \u001b[0mcol\u001b[0m\u001b[0;34m)\u001b[0m\u001b[0;34m\u001b[0m\u001b[0m\n\u001b[0m",
      "\u001b[0;31mNameError\u001b[0m: global name 'row_dic' is not defined"
     ]
    }
   ],
   "source": [
    "a_plate.get_well_by_position(5,5)"
   ]
  },
  {
   "cell_type": "code",
   "execution_count": 55,
   "metadata": {
    "collapsed": false
   },
   "outputs": [
    {
     "name": "stdout",
     "output_type": "stream",
     "text": [
      "wells in current plate:\n",
      "A 1\n",
      "A 2\n",
      "A 3\n",
      "A 4\n",
      "A 5\n",
      "A 6\n",
      "A 7\n",
      "A 8\n",
      "A 9\n",
      "A 10\n",
      "A 11\n",
      "A 12\n",
      "B 1\n",
      "B 2\n",
      "B 3\n",
      "B 4\n",
      "B 5\n",
      "B 6\n",
      "B 7\n",
      "B 8\n",
      "B 9\n",
      "B 10\n",
      "B 11\n",
      "B 12\n",
      "C 1\n",
      "C 2\n",
      "C 3\n",
      "C 4\n",
      "C 5\n",
      "C 6\n",
      "C 7\n",
      "C 8\n",
      "C 9\n",
      "C 10\n",
      "C 11\n",
      "C 12\n",
      "D 1\n",
      "D 2\n",
      "D 3\n",
      "D 4\n",
      "D 5\n",
      "D 6\n",
      "D 7\n",
      "D 8\n",
      "D 9\n",
      "D 10\n",
      "D 11\n",
      "D 12\n",
      "E 1\n",
      "E 2\n",
      "E 3\n",
      "E 4\n",
      "E 5\n",
      "E 6\n",
      "E 7\n",
      "E 8\n",
      "E 9\n",
      "E 10\n",
      "E 11\n",
      "E 12\n",
      "F 1\n",
      "F 2\n",
      "F 3\n",
      "F 4\n",
      "F 5\n",
      "F 6\n",
      "F 7\n",
      "F 8\n",
      "F 9\n",
      "F 10\n",
      "F 11\n",
      "F 12\n",
      "G 1\n",
      "G 2\n",
      "G 3\n",
      "G 4\n",
      "G 5\n",
      "G 6\n",
      "G 7\n",
      "G 8\n",
      "G 9\n",
      "G 10\n",
      "G 11\n",
      "G 12\n",
      "H 1\n",
      "H 2\n",
      "H 3\n",
      "H 4\n",
      "H 5\n",
      "H 6\n",
      "H 7\n",
      "H 8\n",
      "H 9\n",
      "H 10\n",
      "H 11\n",
      "H 12\n"
     ]
    }
   ],
   "source": [
    "print 'wells in current plate:'\n",
    "for well in a_plate._wells:\n",
    "    print well.row, well.col"
   ]
  },
  {
   "cell_type": "code",
   "execution_count": null,
   "metadata": {
    "collapsed": true
   },
   "outputs": [],
   "source": []
  }
 ],
 "metadata": {
  "anaconda-cloud": {},
  "kernelspec": {
   "display_name": "Python [conda root]",
   "language": "python",
   "name": "conda-root-py"
  },
  "language_info": {
   "codemirror_mode": {
    "name": "ipython",
    "version": 2
   },
   "file_extension": ".py",
   "mimetype": "text/x-python",
   "name": "python",
   "nbconvert_exporter": "python",
   "pygments_lexer": "ipython2",
   "version": "2.7.12"
  }
 },
 "nbformat": 4,
 "nbformat_minor": 1
}
